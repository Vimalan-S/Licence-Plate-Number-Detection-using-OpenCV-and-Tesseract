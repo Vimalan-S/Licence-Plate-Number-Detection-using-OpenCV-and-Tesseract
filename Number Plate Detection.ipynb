{
 "cells": [
  {
   "cell_type": "markdown",
   "metadata": {},
   "source": [
    "IMPORTING NECESSARY PACKAGES"
   ]
  },
  {
   "cell_type": "code",
   "execution_count": 67,
   "metadata": {},
   "outputs": [],
   "source": [
    "from PIL.Image import ImageTransformHandler\n",
    "import cv2 as cv\n",
    "import numpy as np\n",
    "import pytesseract"
   ]
  },
  {
   "cell_type": "markdown",
   "metadata": {},
   "source": [
    "SPECIFYING THE PATH WHERE TESSERACT IS INSTALLED"
   ]
  },
  {
   "cell_type": "code",
   "execution_count": 68,
   "metadata": {},
   "outputs": [],
   "source": [
    "pytesseract.pytesseract.tesseract_cmd = \"C:/Program Files (x86)/Tesseract-OCR/tesseract.exe\""
   ]
  },
  {
   "cell_type": "markdown",
   "metadata": {},
   "source": [
    "DETECTING THE LICENCE PLATES USING HAAR-LIKE FEATURES "
   ]
  },
  {
   "cell_type": "code",
   "execution_count": 69,
   "metadata": {},
   "outputs": [],
   "source": [
    "cascade = cv.CascadeClassifier(\"haarcascade_russian_plate_number.xml\")"
   ]
  },
  {
   "cell_type": "markdown",
   "metadata": {},
   "source": [
    "DEFINING ALL INDIAN STATE CODES FOR VEHICLES"
   ]
  },
  {
   "cell_type": "code",
   "execution_count": 70,
   "metadata": {},
   "outputs": [],
   "source": [
    "state_codes = {  \"AN\":\"Andaman and Nicobar\",\n",
    "            \"AP\":\"Andhra Pradesh\", \"AR\":\"Arunachal Pradesh\",\n",
    "            \"AS\":\"Assam\", \"BR\":\"Bihar\", \"CH\":\"Chandigarh\",\n",
    "            \"DN\":\"Dadra and Nagar Haveli\", \"DD\":\"Daman and Diu\",\n",
    "            \"DL\":\"Delhi\", \"GA\":\"Goa\", \"GJ\":\"Gujarat\",\n",
    "            \"HR\":\"Haryana\", \"HP\":\"Himachal Pradesh\",\n",
    "            \"JK\":\"Jammu and Kashmir\", \"KA\":\"Karnataka\", \"KL\":\"Kerala\",\n",
    "            \"LD\":\"Lakshadweep\", \"MP\":\"Madhya Pradesh\", \"MH\":\"Maharashtra\", \"MN\":\"Manipur\",\n",
    "            \"ML\":\"Meghalaya\", \"MZ\":\"Mizoram\", \"NL\":\"Nagaland\", \"OD\":\"Odissa\",\n",
    "            \"PY\":\"Pondicherry\", \"PN\":\"Punjab\", \"RJ\":\"Rajasthan\", \"SK\":\"Sikkim\", \"TN\":\"TamilNadu\",\n",
    "            \"TR\":\"Tripura\", \"UP\":\"Uttar Pradesh\", \"WB\":\"West Bengal\", \"CG\":\"Chhattisgarh\",\n",
    "            \"TS\":\"Telangana\", \"JH\":\"Jharkhand\", \"UK\":\"Uttarakhand\" }"
   ]
  },
  {
   "cell_type": "markdown",
   "metadata": {},
   "source": [
    "LICENCE PLATE DETECTION AND PLATE NUMBER RECOGNITION"
   ]
  },
  {
   "cell_type": "code",
   "execution_count": 71,
   "metadata": {},
   "outputs": [],
   "source": [
    "def Get_NumberPlate(img_filename):\n",
    "    # READING THE IMAGE\n",
    "    img = cv.imread(img_filename)\n",
    "\n",
    "    # CONVERTING TO GRAYSCALE\n",
    "    gray = cv.cvtColor(img, cv.COLOR_BGR2GRAY)\n",
    "\n",
    "    # DETECTING THE NUMBER PLATE USING HAAR-LIKE FEATURES\n",
    "    number_plate = cascade.detectMultiScale(gray)\n",
    "    \n",
    "    # CROPPING THE NUMBER PLATE ALONE FROM THE GRAYSCALE IMAGE\n",
    "    for (x,y,w,h) in number_plate:  # SPLITTING UP THE BOUNDING BOXES INTO (x,y,w,h) VARIABLES\n",
    "        wT,hT,cT = img.shape  # wT -> WIDTH | hT -> HEIGHT | cT -> CHANNEL OF THE IMAGE\n",
    "        a,b = (int(0.02*wT), int(0.02*hT))\n",
    "        plate = img[y+a : y+h-a, x+b : x+w-b, :]\n",
    "\n",
    "        # IMAGE PROCESSING\n",
    "        # MAKING THE NUMBER PLATE LOOK MORE DARKER\n",
    "        kernel = np.ones((1,1), np.uint8)  # CONVOLVING THE IMAGE WITH AN ODD SIZE MATRIX \n",
    "\n",
    "        # DILATION INCREASES THE WHITE REGION OF THE NUMBER PLATE\n",
    "        plate = cv.dilate(plate, kernel, iterations = 1)\n",
    "\n",
    "        # ERODE FUNCTION REMOVES SMALL WHITE NOISES AND DETACHES TWO CONNECTED OBJECTS \n",
    "        plate = cv.erode(plate, kernel, iterations = 1)\n",
    "        \n",
    "        # CONVERTING THE NUMBER PLATE TO GRAYSCALE \n",
    "        plate_gray = cv.cvtColor(plate, cv.COLOR_BGR2GRAY)\n",
    "\n",
    "        # APPLYING THRESHOLDING TECHNIQUE ON THE GRAYSCALE IMAGE FOR BETTER SEPARATION OF FOREGROUND OBJECT FROM BACKGROUND PIXELS\n",
    "        (thresh, plate) = cv.threshold(plate_gray, 127, 255, cv.THRESH_BINARY)\n",
    "\n",
    "        # EXTRACTING TEXT FROM THE NUMBER PLATE USING 'pytesseract'(AN OCR TOOL)\n",
    "        text = pytesseract.image_to_string(plate)\n",
    "\n",
    "        # REMOVING BLANK SPACES FROM THE TEXT\n",
    "        text = ''.join(e for e in text if e.isalnum())\n",
    "\n",
    "        # GETTING THE STATE CODE OF THE VEHICLE\n",
    "        state = text[0:2]\n",
    "\n",
    "        # FETCHING STATE DETAILS BASED ON THE STATE CODE OF THE VEHICLE\n",
    "        try:\n",
    "            print('CAR BELONGS TO: ', state_codes[state])\n",
    "        except:\n",
    "            print('STATE NOT RECOGNISED')\n",
    "\n",
    "        print(\"CAR NUMBER: \", text)\n",
    "        \n",
    "        # DETECTING THE NUMBER PLATE AREA ON THE IMAGE\n",
    "        cv.rectangle(img, (x,y), (x+w,y+h), (51,51,255), 2)\n",
    "        cv.rectangle(img, (x-1,y-40), (x+w+1,y), (51,51,255), -1)\n",
    "\n",
    "        # DISPLAYING THE OCR OUTPUT ON THE IMAGE ITSELF\n",
    "        cv.putText(img, text, (x,y-10), cv.FONT_HERSHEY_SIMPLEX, 0.9, (255,255,255), 2)\n",
    "\n",
    "        # DISPLAYING THE NUMBER PLATE\n",
    "        cv.imshow(\"plate\", plate)\n",
    "\n",
    "    # STORING THE OUTPUT IMAGE CONTAINING OCR TEXT OF THE NUMBER PLATE    \n",
    "    cv.imwrite(\"Output_Image.png\", img)\n",
    "    cv.imwrite(\"NumberPlate.png\", plate)\n",
    "\n",
    "    # DISPLAYING THE OUTPUT IMAGE\n",
    "    cv.imshow(\"Result\", img)\n",
    "\n",
    "    # EXITING THE OPERATION WHEN 'q' IS PRESSED\n",
    "    if cv.waitKey(1) & 0xFF == ord('q'):\n",
    "        exit()\n",
    "    \n",
    "    # CLEANING UP ALL OPENED WINDOWS\n",
    "    cv.destroyAllWindows()"
   ]
  },
  {
   "cell_type": "markdown",
   "metadata": {},
   "source": [
    "CALLING THE FUNCTION BY PASSING AN IMAGE OF A CAR AS INPUT"
   ]
  },
  {
   "cell_type": "code",
   "execution_count": 72,
   "metadata": {},
   "outputs": [
    {
     "name": "stdout",
     "output_type": "stream",
     "text": [
      "CAR BELONGS TO:  Kerala\n",
      "CAR NUMBER:  KL5tk4999\n"
     ]
    }
   ],
   "source": [
    "Get_NumberPlate(\"Car_Image.png\")"
   ]
  }
 ],
 "metadata": {
  "kernelspec": {
   "display_name": "Python 3.10.1 64-bit",
   "language": "python",
   "name": "python3"
  },
  "language_info": {
   "codemirror_mode": {
    "name": "ipython",
    "version": 3
   },
   "file_extension": ".py",
   "mimetype": "text/x-python",
   "name": "python",
   "nbconvert_exporter": "python",
   "pygments_lexer": "ipython3",
   "version": "3.10.1"
  },
  "orig_nbformat": 4,
  "vscode": {
   "interpreter": {
    "hash": "270f40dea5d1f5a229a1866a00a7f1d145fb5d24523a0eb20cef7127b3753f29"
   }
  }
 },
 "nbformat": 4,
 "nbformat_minor": 2
}
